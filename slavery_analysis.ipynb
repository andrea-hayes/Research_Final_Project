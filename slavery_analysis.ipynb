{
 "cells": [
  {
   "cell_type": "markdown",
   "metadata": {},
   "source": [
    "# The Changing Cost of Slavery \n",
    "## Andrea Hayes\n",
    "### July 31, 2024"
   ]
  },
  {
   "cell_type": "markdown",
   "metadata": {},
   "source": [
    "# Introduction \n",
    "* Introduction (an overview of your entire project, your research topic and question,\n",
    "your motivation to study this topic, and any prior related work)\n",
    "\n",
    "* Overview: Slavery has a dark past in the history of America. (400 more words here about history) The political climate was changing with the looming war over slavery and what rights the states had. \n",
    "* Research Questions: How did the price of slaves change as the civil war was on the horizon? Did this price change depend on if the slave was male or female or child or adult slave? Did the buyers or sellers change the distance they traveled to sell or purchase a slave? \n",
    "* Motivation: As we live through historical events it seems obvious or sometimes not so obvious about the decisions we make based on how we think the future will be. If we think an economic collapse is coming we will save more money. But we don't always have the foresight for these decisions. Coming across the dataset with slavery from 1856 - 1861 made me wonder if men of the time changed there decisions based on the political climate. Did they think the south would win the war and made no changes to how they purchased slaves? Or did they only purchase necessary slaves waiting to see which way the winds would blow. "
   ]
  },
  {
   "cell_type": "markdown",
   "metadata": {
    "vscode": {
     "languageId": "plaintext"
    }
   },
   "source": [
    "# Methods\n",
    "* Methods (explain your data and your analytical process)\n",
    "* This dataset has the records of 16,000 slaves sold in New Orleans from 1856 - 1861. "
   ]
  },
  {
   "cell_type": "markdown",
   "metadata": {
    "vscode": {
     "languageId": "plaintext"
    }
   },
   "source": [
    "# Results\n",
    "* Results (lay out your data exploration, your findings, and your visuals)\n",
    "* Vis 1: Price difference for male vs female 1856 vs 1861, average over all years?\n",
    "* Vis 2: Price difference for child vs. adult 1856 vs 1861,  average over all years?\n",
    "* Vis 3: Top 5 places buyers were from in 1856 vs 1861\n",
    "* Vis 4: Top 5 places sellers were from in 1856 vs 1861 "
   ]
  },
  {
   "cell_type": "markdown",
   "metadata": {
    "vscode": {
     "languageId": "plaintext"
    }
   },
   "source": [
    "# Discussion\n",
    "* Discussion (what does your analysis show, what is the big picture, and how are\n",
    "these findings useful?) "
   ]
  },
  {
   "cell_type": "code",
   "execution_count": null,
   "metadata": {
    "vscode": {
     "languageId": "plaintext"
    }
   },
   "outputs": [],
   "source": []
  },
  {
   "cell_type": "markdown",
   "metadata": {},
   "source": []
  }
 ],
 "metadata": {
  "language_info": {
   "name": "python"
  }
 },
 "nbformat": 4,
 "nbformat_minor": 2
}
